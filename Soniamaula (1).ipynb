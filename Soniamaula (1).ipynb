{
 "cells": [
  {
   "cell_type": "code",
   "execution_count": 20,
   "id": "dc19e55a-19ba-4ed5-a688-fd9ec412e00a",
   "metadata": {},
   "outputs": [
    {
     "name": "stdin",
     "output_type": "stream",
     "text": [
      "nama kamu siapa :  maula\n",
      "darimana kamu :  bekasi\n",
      "sebelumnya kamu sekolah dimana ?  smk karya guna 2\n"
     ]
    },
    {
     "name": "stdout",
     "output_type": "stream",
     "text": [
      "halo selamat siang maula\n",
      "wah dari bekasi\n",
      "pasti menyenangkan bersekolah di smk karya guna 2\n"
     ]
    }
   ],
   "source": [
    "nama = input(\"nama kamu siapa : \")\n",
    "asal = input(\"darimana kamu : \") \n",
    "sekolah = input(\"sebelumnya kamu sekolah dimana ? \")  \n",
    "print(\"halo selamat siang \" +nama)\n",
    "print(\"wah dari \" +asal)\n",
    "print(\"pasti menyenangkan bersekolah di \" +sekolah)\n"
   ]
  },
  {
   "cell_type": "code",
   "execution_count": null,
   "id": "61c1af01-4b95-429b-932a-d16d108ee507",
   "metadata": {},
   "outputs": [],
   "source": []
  }
 ],
 "metadata": {
  "kernelspec": {
   "display_name": "Python 3 (ipykernel)",
   "language": "python",
   "name": "python3"
  },
  "language_info": {
   "codemirror_mode": {
    "name": "ipython",
    "version": 3
   },
   "file_extension": ".py",
   "mimetype": "text/x-python",
   "name": "python",
   "nbconvert_exporter": "python",
   "pygments_lexer": "ipython3",
   "version": "3.12.4"
  }
 },
 "nbformat": 4,
 "nbformat_minor": 5
}
