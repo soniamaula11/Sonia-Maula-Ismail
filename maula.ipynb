{
 "cells": [
  {
   "cell_type": "code",
   "execution_count": 1,
   "id": "d610f176-c56c-40c0-919c-ea35a3d394bf",
   "metadata": {},
   "outputs": [
    {
     "name": "stdout",
     "output_type": "stream",
     "text": [
      "hitung luas ruangan:\n"
     ]
    },
    {
     "name": "stdin",
     "output_type": "stream",
     "text": [
      "panjang:  20\n",
      "lebar:  15\n",
      "cm/m:  cm\n"
     ]
    },
    {
     "name": "stdout",
     "output_type": "stream",
     "text": [
      "hasilnya adalah: 300 cm\n"
     ]
    }
   ],
   "source": [
    "print(\"hitung luas ruangan:\")\n",
    "panjang = int(input(\"panjang: \"))\n",
    "lebar = int(input(\"lebar: \"))\n",
    "satuan = input(\"cm/m: \")\n",
    "hasil = panjang * lebar\n",
    "print(\"hasilnya adalah:\", hasil, satuan)"
   ]
  },
  {
   "cell_type": "code",
   "execution_count": null,
   "id": "34430477-064f-4f47-bb63-eec14f76b2e3",
   "metadata": {},
   "outputs": [],
   "source": []
  }
 ],
 "metadata": {
  "kernelspec": {
   "display_name": "Python 3 (ipykernel)",
   "language": "python",
   "name": "python3"
  },
  "language_info": {
   "codemirror_mode": {
    "name": "ipython",
    "version": 3
   },
   "file_extension": ".py",
   "mimetype": "text/x-python",
   "name": "python",
   "nbconvert_exporter": "python",
   "pygments_lexer": "ipython3",
   "version": "3.12.4"
  }
 },
 "nbformat": 4,
 "nbformat_minor": 5
}
